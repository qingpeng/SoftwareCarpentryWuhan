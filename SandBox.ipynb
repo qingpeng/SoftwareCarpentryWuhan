{
 "metadata": {
  "name": "SandBox"
 },
 "nbformat": 3,
 "nbformat_minor": 0,
 "worksheets": [
  {
   "cells": [
    {
     "cell_type": "markdown",
     "metadata": {},
     "source": [
      "## An Introduction to Graphing in Python\n",
      "\n",
      "Based on Software Carpentry Tutorial: https://github.com/swcarpentry/notebooks/blob/master/matplotlib.ipynb\n",
      "    \n"
     ]
    },
    {
     "cell_type": "markdown",
     "metadata": {},
     "source": [
      "## Numpy array\n"
     ]
    },
    {
     "cell_type": "code",
     "collapsed": false,
     "input": [],
     "language": "python",
     "metadata": {},
     "outputs": []
    },
    {
     "cell_type": "code",
     "collapsed": false,
     "input": [],
     "language": "python",
     "metadata": {},
     "outputs": []
    },
    {
     "cell_type": "code",
     "collapsed": false,
     "input": [],
     "language": "python",
     "metadata": {},
     "outputs": []
    },
    {
     "cell_type": "markdown",
     "metadata": {},
     "source": [
      "Basic plots of two variables\n",
      "----------------------------\n",
      "Generating basic bivariate plots is done using the plot() function."
     ]
    },
    {
     "cell_type": "code",
     "collapsed": false,
     "input": [],
     "language": "python",
     "metadata": {},
     "outputs": []
    },
    {
     "cell_type": "code",
     "collapsed": false,
     "input": [],
     "language": "python",
     "metadata": {},
     "outputs": []
    },
    {
     "cell_type": "markdown",
     "metadata": {},
     "source": [
      "Histograms\n",
      "----------\n",
      "Histograms are made using the hist() function."
     ]
    },
    {
     "cell_type": "code",
     "collapsed": false,
     "input": [],
     "language": "python",
     "metadata": {},
     "outputs": []
    },
    {
     "cell_type": "markdown",
     "metadata": {},
     "source": [
      "Labels\n",
      "------\n",
      "We can add axis labels to a figure using the xlabel() and ylabel() functions."
     ]
    },
    {
     "cell_type": "code",
     "collapsed": false,
     "input": [],
     "language": "python",
     "metadata": {},
     "outputs": []
    },
    {
     "cell_type": "markdown",
     "metadata": {},
     "source": [
      "Axis Limits\n",
      "-----------\n",
      "Axis limits are changed using the ``axis([xmin, xmax, ymin, ymax])`` function."
     ]
    },
    {
     "cell_type": "code",
     "collapsed": false,
     "input": [],
     "language": "python",
     "metadata": {},
     "outputs": []
    },
    {
     "cell_type": "markdown",
     "metadata": {},
     "source": [
      "Plotting multiple sets of data together\n",
      "---------------------------------------\n",
      "To plot multiple datasets together we tell Python not to overwrite the previous data using ``hold(True)``. Running ``hold(False)`` will cause Python to start overwriting the figure again."
     ]
    },
    {
     "cell_type": "code",
     "collapsed": false,
     "input": [],
     "language": "python",
     "metadata": {},
     "outputs": []
    },
    {
     "cell_type": "markdown",
     "metadata": {},
     "source": [
      "Exercise 1\n",
      "==============\n",
      "change the lines to dashed line,  change the x_limit, etc. \n",
      "set_xlim,set_ylim,\n",
      "Changing axis limits  \n",
      "Changing line colors  \n",
      "Changing lines to dashed (for black and white figures)  \n",
      "\n"
     ]
    },
    {
     "cell_type": "markdown",
     "metadata": {},
     "source": [
      "Subplots\n",
      "--------\n",
      "Subplots are generated using ``subplot(#ofRows, #ofCols, Position)``."
     ]
    },
    {
     "cell_type": "code",
     "collapsed": false,
     "input": [],
     "language": "python",
     "metadata": {},
     "outputs": []
    },
    {
     "cell_type": "markdown",
     "metadata": {},
     "source": [
      "Exercise 2\n",
      "=======\n",
      "plot a figure with four subplots 2x2, with x-axis y-axis label and legend,etc."
     ]
    },
    {
     "cell_type": "markdown",
     "metadata": {},
     "source": [
      "New Figures\n",
      "-----------\n",
      "Plotting multiple figures in the same script requires that we create new figures, which is done using ``figure()``. In this example the two figures are different figures rather than subplots of a single figure."
     ]
    },
    {
     "cell_type": "code",
     "collapsed": false,
     "input": [],
     "language": "python",
     "metadata": {},
     "outputs": []
    },
    {
     "cell_type": "markdown",
     "metadata": {},
     "source": [
      "More complicated figures?\n",
      "------------------\n",
      "Matplotlib is very powerful and there are lots of functions and arugments to create different kinds of figures and modify them as much as you would like.\n",
      "Check out the [website](http://matplotlib.org/) or the [gallery](http://matplotlib.org/gallery.html) to learn more."
     ]
    },
    {
     "cell_type": "markdown",
     "metadata": {},
     "source": [
      "Exercise 3 Exploring the matplotlib gallery\n",
      "================\n",
      "\n",
      "Have a look at the matplotlib gallery, find a cool looking figure, copy the code into the box below, and modify it. Note that some of the examples might require packages that are not installed on your machine (in particular those that make maps) - if this is the case, pick another example for the purposes of this exercise.\n",
      "In IPython, you can use the \"load magic\". Type %load and then the URL of the py file containing the code, and it will automatically copy it into a cell below. Run the cell with the code to see the figure.\n",
      "\n",
      "\n"
     ]
    },
    {
     "cell_type": "code",
     "collapsed": false,
     "input": [],
     "language": "python",
     "metadata": {},
     "outputs": []
    },
    {
     "cell_type": "markdown",
     "metadata": {},
     "source": [
      "A demo -  how to plot a more complicated figure\n",
      "=================\n",
      "We have data about the average high temperature and low temperature for each month at a small town in the US (Charleston, MO).  \n",
      "temp.txt\n",
      "\n",
      "\n",
      "Month\tHigh\tLow    \n",
      "1\t49.265\t32.077  \n",
      "2\t51.493\t35.162  \n",
      "3\t70.765\t49.994  \n",
      "4\t72.390\t51.177  \n",
      "5\t84.268\t61.458  \n",
      "6\t88.177\t64.847  \n",
      "7\t93.090\t73.606  \n",
      "8\t89.406\t66.506  \n",
      "9\t79.417\t59.993  \n",
      "10\t66.542\t47.113  \n",
      "11\t56.593\t36.120  \n",
      "12\t52.010\t37.006  \n",
      "\n",
      "We will read this file and extract useful information and plot a bar figure to show the trend.\n"
     ]
    },
    {
     "cell_type": "code",
     "collapsed": false,
     "input": [],
     "language": "python",
     "metadata": {},
     "outputs": []
    },
    {
     "cell_type": "markdown",
     "metadata": {},
     "source": [
      "Simple bar figure"
     ]
    },
    {
     "cell_type": "code",
     "collapsed": false,
     "input": [],
     "language": "python",
     "metadata": {},
     "outputs": []
    },
    {
     "cell_type": "markdown",
     "metadata": {},
     "source": [
      "See http://matplotlib.org/examples/pylab_examples/custom_ticker1.html"
     ]
    },
    {
     "cell_type": "code",
     "collapsed": false,
     "input": [],
     "language": "python",
     "metadata": {},
     "outputs": []
    },
    {
     "cell_type": "markdown",
     "metadata": {},
     "source": [
      "Floating bar"
     ]
    },
    {
     "cell_type": "code",
     "collapsed": false,
     "input": [],
     "language": "python",
     "metadata": {},
     "outputs": []
    },
    {
     "cell_type": "markdown",
     "metadata": {},
     "source": [
      "We also save the figure to the directory. '1.png'"
     ]
    },
    {
     "cell_type": "code",
     "collapsed": false,
     "input": [],
     "language": "python",
     "metadata": {},
     "outputs": []
    },
    {
     "cell_type": "markdown",
     "metadata": {},
     "source": [
      "Final Exercise \n",
      "=============\n",
      "Show the relationship between temperature and solar radiation.  \n",
      "We all know that the solar radiation is the most important resource of the heat on earth. So it is reasonable that the temperature is related to the solar radiation. However, what the relation will be is an interesting question. We all have some idea that the sunlight is the strongest at noon. Does that mean the temperature is the highest at noon either? We will examine that in this project. We will calculate the average solar radiation and average temperature at different time in a day in certain month. Then we can plot a figure to show the relation between them.  \n",
      "see http://matplotlib.org/examples/api/two_scales.html"
     ]
    },
    {
     "cell_type": "code",
     "collapsed": false,
     "input": [],
     "language": "python",
     "metadata": {},
     "outputs": []
    },
    {
     "cell_type": "markdown",
     "metadata": {},
     "source": [
      "One More Thing...\n",
      "============\n",
      "How does \"temp_result.txt\" and \"temp_solar_result.txt\" come from?\n",
      "Write seperate python script to process raw data...\n"
     ]
    }
   ],
   "metadata": {}
  }
 ]
}